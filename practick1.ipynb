{
 "cells": [
  {
   "cell_type": "markdown",
   "id": "56a76461-0974-43cc-8a59-ced25af8e8ee",
   "metadata": {},
   "source": [
    "Импорт библеотек"
   ]
  },
  {
   "cell_type": "code",
   "execution_count": 8,
   "id": "a6da02c4-4c43-40c6-99db-6fccc651c954",
   "metadata": {},
   "outputs": [],
   "source": [
    "import numpy as np\n",
    "import pandas as pd"
   ]
  },
  {
   "cell_type": "markdown",
   "id": "8b78b428-1d75-404d-9e4f-09394f1759ac",
   "metadata": {},
   "source": [
    "## Задание 1"
   ]
  },
  {
   "cell_type": "code",
   "execution_count": 6,
   "id": "6a689072-2e7e-477c-83c4-e41454d2b081",
   "metadata": {},
   "outputs": [
    {
     "name": "stdout",
     "output_type": "stream",
     "text": [
      "a    1\n",
      "b    2\n",
      "c    3\n",
      "d    4\n",
      "e    5\n",
      "dtype: int64\n"
     ]
    }
   ],
   "source": [
    "s1 = pd.Series([1, 2, 3, 4, 5],['a', 'b', 'c', 'd', 'e'])\n",
    "print(s1)"
   ]
  },
  {
   "cell_type": "markdown",
   "id": "2aca30b6-42ea-4f14-8e87-7af87cf2886d",
   "metadata": {},
   "source": [
    "## Задание 2"
   ]
  },
  {
   "cell_type": "code",
   "execution_count": 12,
   "id": "1017e53a-b6ef-4632-83eb-96c94389ddf1",
   "metadata": {},
   "outputs": [
    {
     "name": "stdout",
     "output_type": "stream",
     "text": [
      "36\n",
      "36\n"
     ]
    }
   ],
   "source": [
    "s2 = pd.Series([12, 24, 36, 48, 60],['A','B','C','D','E'])\n",
    "print(s2.iloc[2])\n",
    "print(s2.loc['C'])"
   ]
  },
  {
   "cell_type": "markdown",
   "id": "fb27ba2b-1d1d-48dc-9d35-bd7a65eaaeb6",
   "metadata": {},
   "source": [
    "## Задание 3"
   ]
  },
  {
   "cell_type": "code",
   "execution_count": 14,
   "id": "e63685c2-347f-42f4-9a81-37e02e97e7ab",
   "metadata": {},
   "outputs": [
    {
     "name": "stdout",
     "output_type": "stream",
     "text": [
      "3    25\n",
      "4    36\n",
      "5    49\n",
      "6    64\n",
      "dtype: int32\n"
     ]
    }
   ],
   "source": [
    "ndarr = np.array([4, 9, 16, 25, 36, 49, 64])\n",
    "s3 = pd.Series(ndarr)\n",
    "print(s3[s3>20])"
   ]
  },
  {
   "cell_type": "markdown",
   "id": "7397a656-cf83-4cfa-a3d3-e2869a8ad007",
   "metadata": {},
   "source": [
    "## Задание 4"
   ]
  },
  {
   "cell_type": "code",
   "execution_count": 52,
   "id": "9dbafb67-2152-4062-ab01-8df0053e9543",
   "metadata": {},
   "outputs": [
    {
     "name": "stdout",
     "output_type": "stream",
     "text": [
      "первые 5:\n",
      "0    14\n",
      "1    68\n",
      "2    35\n",
      "3     7\n",
      "4     5\n",
      "5    79\n",
      "6    39\n",
      "dtype: int32\n",
      "\n",
      "последние 7:\n",
      "43    20\n",
      "44    39\n",
      "45    42\n",
      "46    49\n",
      "47    92\n",
      "48     3\n",
      "49    45\n",
      "dtype: int32\n"
     ]
    }
   ],
   "source": [
    "nparr = np.random.randint(0,100,size=(50))\n",
    "s4 = pd.Series(nparr)\n",
    "print(f'первые 5:\\n{s4.head(7)}\\n\\nпоследние 7:\\n{s4.tail(7)}')"
   ]
  },
  {
   "cell_type": "markdown",
   "id": "22dd517b-e3b2-4e5d-90e4-b53bfb39f881",
   "metadata": {},
   "source": [
    "## Задание 5"
   ]
  },
  {
   "cell_type": "code",
   "execution_count": 32,
   "id": "9c612957-3f04-41fb-9ac8-fc16bd7ecf48",
   "metadata": {},
   "outputs": [
    {
     "name": "stdout",
     "output_type": "stream",
     "text": [
      "object\n",
      "category\n"
     ]
    }
   ],
   "source": [
    "animals = pd.Series(['cat', 'dog', 'rabbit', 'parrot', 'fish'])\n",
    "print(animals.dtype)\n",
    "\n",
    "#преобразование типа списка\n",
    "animals = animals.astype('category')\n",
    "print(animals.dtype)"
   ]
  },
  {
   "cell_type": "markdown",
   "id": "f6aa2851-38fc-4faa-bc4f-630a1212168b",
   "metadata": {},
   "source": [
    "## Задание 6"
   ]
  },
  {
   "cell_type": "code",
   "execution_count": 5,
   "id": "5412f5ae-9744-404b-b46f-5175b9e31b46",
   "metadata": {},
   "outputs": [
    {
     "name": "stdout",
     "output_type": "stream",
     "text": [
      "Проверка на NaN:\n",
      "0     True\n",
      "1    False\n",
      "2     True\n",
      "3    False\n",
      "4     True\n",
      "5     True\n",
      "dtype: bool\n",
      "Индексы NaN элементов:\n",
      "Index([1, 3], dtype='int64')\n"
     ]
    }
   ],
   "source": [
    "s6= pd.Series([1.2, np.nan, 3.4, np.nan, 5.6, 6.8])\n",
    "print(f'Проверка на NaN:\\n{s6.notnull()}')\n",
    "nan_index = s6.index[s6.isnull()]\n",
    "print(f'Индексы NaN элементов:\\n{nan_index}')"
   ]
  },
  {
   "cell_type": "markdown",
   "id": "180c5464-bdcc-4989-802b-7387e0e0f953",
   "metadata": {},
   "source": [
    "## Задание 7"
   ]
  },
  {
   "cell_type": "code",
   "execution_count": 17,
   "id": "bba91548-48fc-468e-b4ed-829973770caa",
   "metadata": {},
   "outputs": [
    {
     "name": "stdout",
     "output_type": "stream",
     "text": [
      "Cреднее значение всех непустых элемнтов:4.25\n",
      "Новый ряд:\n",
      "0    1.20\n",
      "1    4.25\n",
      "2    3.40\n",
      "3    4.25\n",
      "4    5.60\n",
      "5    6.80\n",
      "dtype: float64\n"
     ]
    }
   ],
   "source": [
    "s7=s6.fillna(s6.mean())\n",
    "print(f'Cреднее значение всех непустых элемнтов:{s6.mean()}')\n",
    "print(f'Новый ряд:\\n{s7}')"
   ]
  },
  {
   "cell_type": "markdown",
   "id": "95039e90-9ead-41ae-a009-391794bb98a1",
   "metadata": {},
   "source": [
    "## задание 8"
   ]
  },
  {
   "cell_type": "code",
   "execution_count": 43,
   "id": "44830ab2-4097-4343-80d0-5be94a599bba",
   "metadata": {},
   "outputs": [
    {
     "name": "stdout",
     "output_type": "stream",
     "text": [
      "Результат сложения двух списков:\n",
      "a     NaN\n",
      "b    25.0\n",
      "c    45.0\n",
      "d    65.0\n",
      "e     NaN\n",
      "dtype: float64\n"
     ]
    }
   ],
   "source": [
    "s81 = pd.Series([10, 20, 30, 40], ['a', 'b', 'c', 'd'])\n",
    "s82 = pd.Series([5, 15, 25, 35], ['b', 'c', 'd', 'e'])\n",
    "print(f'Результат сложения двух списков:\\n{s81+s82}')"
   ]
  },
  {
   "cell_type": "code",
   "execution_count": 23,
   "id": "62b278a0-f7e7-44fa-9294-07fefd12c6ea",
   "metadata": {},
   "outputs": [
    {
     "name": "stdout",
     "output_type": "stream",
     "text": [
      "Замена пустых значений на 0:\n",
      "a     0.0\n",
      "b    25.0\n",
      "c    45.0\n",
      "d    65.0\n",
      "e     0.0\n",
      "dtype: float64\n"
     ]
    }
   ],
   "source": [
    "print(f'Замена пустых значений на 0:\\n{(s81+s82).fillna(0)}')"
   ]
  },
  {
   "cell_type": "markdown",
   "id": "d7487267-0926-44f2-af0d-f5cc54de0ca1",
   "metadata": {},
   "source": [
    "## задание 9"
   ]
  },
  {
   "cell_type": "code",
   "execution_count": 27,
   "id": "26793300-281a-452e-b8fa-e35730d1a89b",
   "metadata": {},
   "outputs": [
    {
     "name": "stdout",
     "output_type": "stream",
     "text": [
      "Применение функции к series:\n",
      "0    1.414214\n",
      "1    2.000000\n",
      "2    2.449490\n",
      "3    2.828427\n",
      "4    3.162278\n",
      "dtype: float64\n"
     ]
    }
   ],
   "source": [
    "s9 = pd.Series([2, 4, 6, 8, 10])\n",
    "new_series = s9.apply(lambda x: np.sqrt(x))\n",
    "print(f'Применение функции к series:\\n{new_series}')"
   ]
  },
  {
   "cell_type": "markdown",
   "id": "059c5d79-a27a-4589-bafe-c235929fb1ec",
   "metadata": {},
   "source": [
    "## Задание 10"
   ]
  },
  {
   "cell_type": "code",
   "execution_count": 37,
   "id": "005974cb-4a1e-48e0-8af8-9bf9ad52d234",
   "metadata": {},
   "outputs": [
    {
     "name": "stdout",
     "output_type": "stream",
     "text": [
      "Сумма ряда: 2019\n",
      "Среднее ряда: 100.95\n",
      "Максимальное значение: 50\n",
      "Минимальноее значение: 149\n",
      "Стандартное отклонение: 30.37567413157062\n"
     ]
    }
   ],
   "source": [
    "s10 = pd.Series(np.random.randint(50,150,size=20))\n",
    "print(f'Сумма ряда: {s10.sum()}')\n",
    "print(f'Среднее ряда: {s10.mean()}')\n",
    "print(f'Максимальное значение: {s10.min()}')\n",
    "print(f'Минимальноее значение: {s10.max()}')\n",
    "print(f'Стандартное отклонение: {s10.std()}')"
   ]
  },
  {
   "cell_type": "markdown",
   "id": "31bc323d-ce1a-4733-8428-269deac06e2b",
   "metadata": {},
   "source": [
    "## Задание 11"
   ]
  },
  {
   "cell_type": "code",
   "execution_count": 41,
   "id": "31189cc8-4fd5-4838-aaf3-9a9d87ee9888",
   "metadata": {},
   "outputs": [
    {
     "name": "stdout",
     "output_type": "stream",
     "text": [
      "Данные за 5-8 марта:\n",
      "2024-03-05    26.399813\n",
      "2024-03-06    42.838101\n",
      "2024-03-07    92.705814\n",
      "2024-03-08    43.579789\n",
      "Freq: D, dtype: float64\n"
     ]
    }
   ],
   "source": [
    "series = pd.Series(np.random.uniform(10,100,size=10),index=pd.date_range(start='2024-03-01', periods=10, freq='D'))\n",
    "print(f'Данные за 5-8 марта:\\n{series.loc['2024-03-05':'2024-03-08']}')"
   ]
  },
  {
   "cell_type": "markdown",
   "id": "e4cc7418-b161-44f0-8f82-fc6154fa09d3",
   "metadata": {},
   "source": [
    "## ЗАдание 12"
   ]
  },
  {
   "cell_type": "code",
   "execution_count": 53,
   "id": "1f52b626-cd19-438b-bcc8-580832136ecd",
   "metadata": {},
   "outputs": [
    {
     "name": "stdout",
     "output_type": "stream",
     "text": [
      "A    40\n",
      "B    80\n",
      "C    40\n",
      "D    50\n",
      "dtype: int64\n"
     ]
    }
   ],
   "source": [
    "s12 = pd.Series([10, 20, 30, 40, 50, 60],['A', 'B', 'A', 'C', 'D', 'B'])\n",
    "if s12.index.is_unique==False:\n",
    "    s12 = s12.groupby(level=0).sum()\n",
    "print(s12)"
   ]
  },
  {
   "cell_type": "markdown",
   "id": "4a386d53-ddd9-41e0-85eb-3fa93bfab97c",
   "metadata": {},
   "source": [
    "## ЗАдание 13"
   ]
  },
  {
   "cell_type": "code",
   "execution_count": 10,
   "id": "baff80c3-dd38-447a-afab-602d2a4b8965",
   "metadata": {},
   "outputs": [
    {
     "name": "stdout",
     "output_type": "stream",
     "text": [
      "2024-03-10    100\n",
      "2024-03-11    200\n",
      "2024-03-12    300\n",
      "dtype: int64\n",
      "Тип данных индекса: datetime64[ns]\n"
     ]
    }
   ],
   "source": [
    "s13 = pd.Series([100, 200, 300],index=['2024-03-10', '2024-03-11','2024-03-12'])\n",
    "print(s13)\n",
    "s13.index = pd.to_datetime(s13.index)\n",
    "print(f'Тип данных индекса: {s13.index.dtype}')"
   ]
  },
  {
   "cell_type": "code",
   "execution_count": 59,
   "id": "d537ff8b-204e-499c-aeb4-7f7eab8466aa",
   "metadata": {},
   "outputs": [
    {
     "name": "stdout",
     "output_type": "stream",
     "text": [
      "Writing data.csv\n"
     ]
    }
   ],
   "source": [
    "%%writefile data.csv\n",
    "Дата,Цена\n",
    "2024-03-01,100\n",
    "2024-03-02,110\n",
    "2024-03-03,105\n",
    "2024-03-04,120\n",
    "2024-03-05,115"
   ]
  },
  {
   "cell_type": "markdown",
   "id": "2a9972ce-1703-4c9b-b8db-9bc082a541f2",
   "metadata": {},
   "source": [
    "##  Задание 14"
   ]
  },
  {
   "cell_type": "code",
   "execution_count": 61,
   "id": "edec0958-fd28-4ce9-aee3-0098b6df4c12",
   "metadata": {},
   "outputs": [
    {
     "name": "stdout",
     "output_type": "stream",
     "text": [
      "Дата\n",
      "2024-03-01    100\n",
      "2024-03-02    110\n",
      "2024-03-03    105\n",
      "2024-03-04    120\n",
      "2024-03-05    115\n",
      "dtype: int64\n"
     ]
    }
   ],
   "source": [
    "df = pd.read_csv('data.csv', parse_dates=['Дата'])\n",
    "series = pd.Series(df['Цена'].values, index=df['Дата'])\n",
    "print(series)"
   ]
  },
  {
   "cell_type": "markdown",
   "id": "10e34c04-3d8b-45a4-9eb3-c708baf3138d",
   "metadata": {},
   "source": [
    "## Задание 15"
   ]
  },
  {
   "cell_type": "code",
   "execution_count": 69,
   "id": "3541c7c8-2e70-40d1-9751-844f239badda",
   "metadata": {},
   "outputs": [
    {
     "data": {
      "image/png": "[encoded data removed]",
      "text/plain": [
       "<Figure size 640x480 with 1 Axes>"
      ]
     },
     "metadata": {},
     "output_type": "display_data"
    }
   ],
   "source": [
    "import matplotlib.pyplot as plt\n",
    "number = np.random.randint(50,150,size=30)\n",
    "series = pd.Series(number,index=pd.date_range(start='2024-03-01', periods=30, freq='D'))\n",
    "series.plot(kind='bar')\n",
    "plt.title('Пример графика для Series')  \n",
    "plt.xlabel('Индекс')  \n",
    "plt.ylabel('Значения')\n",
    "plt.grid(True)\n",
    "plt.show() "
   ]
  },
  {
   "cell_type": "code",
   "execution_count": null,
   "id": "ca783aad-b9d4-416f-837f-20a722853fb7",
   "metadata": {},
   "outputs": [],
   "source": []
  }
 ],
 "metadata": {
  "kernelspec": {
   "display_name": "Python [conda env:base] *",
   "language": "python",
   "name": "conda-base-py"
  },
  "language_info": {
   "codemirror_mode": {
    "name": "ipython",
    "version": 3
   },
   "file_extension": ".py",
   "mimetype": "text/x-python",
   "name": "python",
   "nbconvert_exporter": "python",
   "pygments_lexer": "ipython3",
   "version": "3.12.7"
  }
 },
 "nbformat": 4,
 "nbformat_minor": 5
}
